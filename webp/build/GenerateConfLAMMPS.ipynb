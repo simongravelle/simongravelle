{
 "cells": [
  {
   "cell_type": "code",
   "execution_count": 59,
   "metadata": {},
   "outputs": [],
   "source": [
    "from scipy.spatial.transform import Rotation as R\n",
    "import matplotlib.pyplot as plt\n",
    "from numpy.linalg import norm\n",
    "import numpy as np\n",
    "import random\n",
    "import sys"
   ]
  },
  {
   "cell_type": "code",
   "execution_count": 60,
   "metadata": {},
   "outputs": [],
   "source": [
    "# function from https://github.com/simongravelle/python-for-lammps\n",
    "def randomlocation(Lx,Ly,Lz):\n",
    "    '''Choose a random location within a given box'''\n",
    "    txlo, txhi = -Lx/2, Lx/2\n",
    "    tylo, tyhi = -Ly/2, Ly/2\n",
    "    tzlo, tzhi = -Lz/2, Lz/2    \n",
    "    x = random.randint(1,1000)/1000*(txhi-txlo)+txlo\n",
    "    y = random.randint(1,1000)/1000*(tyhi-tylo)+tylo\n",
    "    z = random.randint(1,1000)/1000*(tzhi-tzlo)+tzlo\n",
    "    return x, y, z\n",
    "def randomorientation(XYZ):\n",
    "    '''3D aleatory rotation of molecule/particule coordinate'''\n",
    "    rotation_degrees = random.randint(0,9000)/100\n",
    "    rotation_radians = np.radians(rotation_degrees)\n",
    "    rotation_axis = np.array([random.randint(0,100)/100, random.randint(0,100)/100, random.randint(0,100)/100])\n",
    "    rotation_axis /= np.linalg.norm(rotation_axis)\n",
    "    rotation_vector = rotation_radians * rotation_axis\n",
    "    rotation = R.from_rotvec(rotation_vector)\n",
    "    mol_rotated = rotation.apply(XYZ)    \n",
    "    return mol_rotated.T"
   ]
  },
  {
   "cell_type": "code",
   "execution_count": 61,
   "metadata": {},
   "outputs": [],
   "source": [
    "Na = 6.022e23 #constants.Avogadro\n",
    "Mh2o = 0.018053 # kg/mol - water"
   ]
  },
  {
   "cell_type": "markdown",
   "metadata": {},
   "source": [
    "### system parameters"
   ]
  },
  {
   "cell_type": "code",
   "execution_count": 62,
   "metadata": {},
   "outputs": [],
   "source": [
    "dw = 3.2 # initial inter-molecule distances (A)\n",
    "Ntot = 2000 # desired number of species (ion + water)\n",
    "c = 8\n",
    "nion = c*Ntot*Mh2o/(2*(1+Mh2o*c)) # desired number for each ion\n",
    "nwater = Ntot - 2*nion\n",
    "co = 3 # cut-off for incerting new molecule"
   ]
  },
  {
   "cell_type": "code",
   "execution_count": 71,
   "metadata": {},
   "outputs": [],
   "source": [
    "nwater = 10\n",
    "nion = 2\n",
    "Ntot = 10"
   ]
  },
  {
   "cell_type": "markdown",
   "metadata": {},
   "source": [
    "### types of atoms, bonds, and angles"
   ]
  },
  {
   "cell_type": "code",
   "execution_count": 72,
   "metadata": {},
   "outputs": [],
   "source": [
    "Tatom = 4 # Na, Cl, O, H\n",
    "Tbond = 1 # O-H\n",
    "Tangle = 1 # H-O-H"
   ]
  },
  {
   "cell_type": "markdown",
   "metadata": {},
   "source": [
    "### import water molecule information"
   ]
  },
  {
   "cell_type": "code",
   "execution_count": 73,
   "metadata": {},
   "outputs": [],
   "source": [
    "Ph2o = np.loadtxt('H2O_TIP4P2005/Position.dat')\n",
    "Bh2o = np.loadtxt('H2O_TIP4P2005/Bond.dat')\n",
    "Ah2o = np.loadtxt('H2O_TIP4P2005/Angle.dat')"
   ]
  },
  {
   "cell_type": "markdown",
   "metadata": {},
   "source": [
    "### add water and ions\n",
    "\n",
    "If the box is too small, increase it until all species fit"
   ]
  },
  {
   "cell_type": "code",
   "execution_count": 74,
   "metadata": {},
   "outputs": [
    {
     "name": "stdout",
     "output_type": "stream",
     "text": [
      "Box size Lx = 40.0 A\n",
      "0 / 2 na atom\n",
      "1 / 2 cl atom\n",
      "9 / 10 water molecules\n",
      " \n"
     ]
    }
   ],
   "source": [
    "cptH2O = 0\n",
    "cptNa = 0\n",
    "cptCl = 0\n",
    "attemps = 0\n",
    "while cptH2O+cptNa+cptCl < (Ntot-3):\n",
    "    \n",
    "    Lx, Ly, Lz = 40+2*attemps*dw, 40+2*attemps*dw, 40+2*attemps*dw # initial box size (A)\n",
    "    box = np.array([Lx, Ly, Lz])\n",
    "    txlo, txhi = -Lx/2, Lx/2\n",
    "    tylo, tyhi = -Ly/2, Ly/2\n",
    "    tzlo, tzhi = -Lz/2, Lz/2\n",
    "    print('Box size Lx = '+str(np.round(Lx,2))+' A')\n",
    "        \n",
    "    cptatom = 0\n",
    "    cptbond = 0\n",
    "    cptangle = 0\n",
    "    cptmol = 0\n",
    "    cptH2O = 0\n",
    "    cptCl = 0\n",
    "    cptNa = 0\n",
    "    cptCl = 0\n",
    "    \n",
    "    # allocate memory\n",
    "    atoms = np.zeros((100000,7))\n",
    "    bonds = np.zeros((100000,4))\n",
    "    angles = np.zeros((100000,5))\n",
    "    # add Cl ions\n",
    "    try_ins = 0\n",
    "    while (cptCl < nion-1) & (try_ins<1e4):\n",
    "        x,y,z = randomlocation(Lx,Ly,Lz)\n",
    "        if cptatom == 0:\n",
    "            x = 0\n",
    "            y = 0\n",
    "            z = 0\n",
    "            atoms[cptatom] = cptatom+1, cptmol+1, 4, -1, x, y, z\n",
    "            cptatom += 1\n",
    "            cptmol += 1\n",
    "            cptCl += 1\n",
    "        else : \n",
    "            # look for overlap\n",
    "            dxdydz = np.remainder(atoms[:cptatom].T[4:7].T - np.array([x,y,z]) + box/2., box) - box/2.\n",
    "            minr = np.min(norm(dxdydz,axis=1))\n",
    "            if minr > co:\n",
    "                atoms[cptatom] = cptatom+1, cptmol+1, 4, -1, x, y, z\n",
    "                cptatom += 1\n",
    "                cptmol += 1\n",
    "                cptCl += 1\n",
    "            else:\n",
    "                try_ins += 1\n",
    "    # add Na ions\n",
    "    tryins = 0\n",
    "    #while (cptNa < nion-1) & (try_ins<1e4):\n",
    "    #    x,y,z = randomlocation(Lx,Ly,Lz)\n",
    "    #    # look for overlap\n",
    "    #    dxdydz = np.remainder(atoms[:cptatom].T[4:7].T - np.array([x,y,z]) + box/2., box) - box/2.\n",
    "    #    minr = np.min(norm(dxdydz,axis=1))\n",
    "    #    if minr > co:\n",
    "    #        atoms[cptatom] = cptatom+1, cptmol+1, 3, 1, x, y, z\n",
    "    #        cptatom += 1\n",
    "    #        cptmol += 1\n",
    "    #        cptNa += 1\n",
    "    #    else:\n",
    "    #        try_ins += 1\n",
    "    # add water molecules\n",
    "    for cut in [0.2,0.4,0.6,0.8,1]:\n",
    "        for z in np.arange(tzlo+dw/2,tzhi-dw/2,dw):\n",
    "            for x in np.arange(txlo+dw/2,txhi-dw/2,dw):\n",
    "                for y in np.arange(tylo+dw/2,tyhi-dw/2,dw):\n",
    "                    if cptH2O < nwater-1: \n",
    "                        rnd = random.random()\n",
    "                        if rnd <= cut: # allow a better filling of the box\n",
    "                            Ph2o.T[4:7] = randomorientation(Ph2o.T[4:7].T)\n",
    "                            # look for overlap\n",
    "                            dxdydz = np.remainder(atoms[:cptatom].T[4:7].T - np.array([x,y,z]) + box/2., box) - box/2.\n",
    "                            minr = np.min(norm(dxdydz,axis=1))\n",
    "                            if minr > co:\n",
    "                                for m in Bh2o:\n",
    "                                    bonds[cptbond] = cptbond+1, m[1], m[2]+cptatom, m[3]+cptatom\n",
    "                                    cptbond += 1\n",
    "\n",
    "                                m = Ah2o\n",
    "                                angles[cptangle] = cptangle+1, m[1], m[2]+cptatom, m[3]+cptatom, m[4]+cptatom\n",
    "                                cptangle += 1 \n",
    "\n",
    "                                for m in Ph2o:\n",
    "                                    atoms[cptatom] = cptatom+1, cptmol, m[2], m[3], m[4]+x, m[5]+y, m[6]+z\n",
    "                                    cptatom += 1 \n",
    "                                cptmol += 1\n",
    "                                cptH2O += 1\n",
    "    attemps += 1\n",
    "    print(str(cptNa)+' / '+str(np.int32(nion))+' na atom')\n",
    "    print(str(cptCl)+' / '+str(np.int32(nion))+' cl atom')\n",
    "    print(str(cptH2O)+' / '+str(np.int32(nwater))+' water molecules')\n",
    "    print(' ')"
   ]
  },
  {
   "cell_type": "markdown",
   "metadata": {},
   "source": [
    "### delete unecessary lines"
   ]
  },
  {
   "cell_type": "code",
   "execution_count": 75,
   "metadata": {},
   "outputs": [],
   "source": [
    "atoms = atoms[0:cptatom]       \n",
    "bonds = bonds[0:cptbond]    \n",
    "angles = angles[0:cptangle]"
   ]
  },
  {
   "cell_type": "markdown",
   "metadata": {},
   "source": [
    "### show system"
   ]
  },
  {
   "cell_type": "code",
   "execution_count": 76,
   "metadata": {},
   "outputs": [],
   "source": [
    "Oxy = atoms[atoms.T[2] == 1]\n",
    "Hyd = atoms[atoms.T[2] == 2]\n",
    "Na = atoms[atoms.T[2] == 3]\n",
    "Cl = atoms[atoms.T[2] == 4]"
   ]
  },
  {
   "cell_type": "code",
   "execution_count": 77,
   "metadata": {},
   "outputs": [
    {
     "data": {
      "image/png": "[encoded data removed]",
      "text/plain": [
       "<Figure size 1440x1440 with 3 Axes>"
      ]
     },
     "metadata": {
      "needs_background": "light"
     },
     "output_type": "display_data"
    }
   ],
   "source": [
    "fig = plt.figure(figsize=(20,20))\n",
    "# panel 1\n",
    "ax1 = plt.subplot(1, 3, 1)\n",
    "ax1.plot(Oxy.T[4], Oxy.T[5],'b.',markersize=15)\n",
    "ax1.plot(Hyd.T[4], Hyd.T[5],'.',markersize=5)\n",
    "ax1.plot(Na.T[4], Na.T[5],'r.',markersize=20)\n",
    "ax1.plot(Cl.T[4], Cl.T[5],'g.',markersize=20)\n",
    "x0,x1 = ax1.get_xlim()\n",
    "y0,y1 = ax1.get_ylim()\n",
    "ax1.set_aspect((x1-x0)/(y1-y0))\n",
    "ax1.axis('off')\n",
    "# panel 2\n",
    "ax2 = plt.subplot(1, 3, 2)\n",
    "ax2.plot(Oxy.T[6], Oxy.T[4],'b.',markersize=15)\n",
    "ax2.plot(Hyd.T[6], Hyd.T[4],'.',markersize=5)\n",
    "ax2.plot(Na.T[6], Na.T[4],'r.',markersize=20)\n",
    "ax2.plot(Cl.T[6], Cl.T[4],'g.',markersize=20)\n",
    "x0,x1 = ax1.get_xlim()\n",
    "y0,y1 = ax1.get_ylim()\n",
    "ax2.set_aspect((x1-x0)/(y1-y0))\n",
    "ax2.axis('off')\n",
    "# panel 3\n",
    "ax3 = plt.subplot(1, 3, 3)\n",
    "ax3.plot(Oxy.T[5], Oxy.T[6],'b.',markersize=15)\n",
    "ax3.plot(Hyd.T[5], Hyd.T[6],'.',markersize=5)\n",
    "ax3.plot(Na.T[5], Na.T[6],'r.',markersize=20)\n",
    "ax3.plot(Cl.T[5], Cl.T[6],'g.',markersize=20)\n",
    "x0,x1 = ax1.get_xlim()\n",
    "y0,y1 = ax1.get_ylim()\n",
    "ax3.set_aspect((x1-x0)/(y1-y0))\n",
    "ax3.axis('off')\n",
    "plt.show()"
   ]
  },
  {
   "cell_type": "markdown",
   "metadata": {},
   "source": [
    "### write data.lammps"
   ]
  },
  {
   "cell_type": "code",
   "execution_count": 78,
   "metadata": {},
   "outputs": [],
   "source": [
    "f = open(\"data.lammps\", \"w\")\n",
    "f.write('# LAMMPS data file \\n\\n')\n",
    "f.write(str(cptatom)+' atoms\\n')\n",
    "f.write(str(cptbond)+' bonds\\n')\n",
    "f.write(str(cptangle)+' angles\\n')\n",
    "f.write('\\n')\n",
    "f.write(str(Tatom)+' atom types\\n')\n",
    "f.write(str(Tbond)+' bond types\\n')\n",
    "f.write(str(Tangle)+' angle types\\n')\n",
    "f.write('\\n')\n",
    "f.write(str(txlo)+' '+str(txhi)+' xlo xhi\\n')\n",
    "f.write(str(tylo)+' '+str(tyhi)+' ylo yhi\\n')\n",
    "f.write(str(tzlo)+' '+str(tzhi)+' zlo zhi\\n')\n",
    "f.write('\\n')\n",
    "f.write('Atoms\\n')\n",
    "f.write('\\n')\n",
    "for nlin in range(len(atoms)):\n",
    "    newline = atoms[nlin]\n",
    "    for col in range(len(newline)):\n",
    "        if col < 3:\n",
    "            f.write(str(int(newline[col]))+' ')\n",
    "        else :\n",
    "            f.write(str(newline[col])+' ')\n",
    "    f.write('\\n')\n",
    "f.write('\\n')\n",
    "f.write('Bonds\\n')\n",
    "f.write('\\n')\n",
    "for nlin in range(len(bonds)):\n",
    "    newline = bonds[nlin]\n",
    "    for col in range(len(newline)):\n",
    "        f.write(str(int(newline[col]))+' ')\n",
    "    f.write('\\n')\n",
    "f.write('\\n')\n",
    "f.write('Angles\\n')\n",
    "f.write('\\n')\n",
    "for nlin in range(len(angles)):\n",
    "    newline = angles[nlin]\n",
    "    for col in range(len(newline)):\n",
    "        f.write(str(int(newline[col]))+' ')\n",
    "    f.write('\\n')\n",
    "f.close()"
   ]
  },
  {
   "cell_type": "code",
   "execution_count": null,
   "metadata": {},
   "outputs": [],
   "source": []
  },
  {
   "cell_type": "code",
   "execution_count": null,
   "metadata": {},
   "outputs": [],
   "source": []
  }
 ],
 "metadata": {
  "kernelspec": {
   "display_name": "Python 3",
   "language": "python",
   "name": "python3"
  },
  "language_info": {
   "codemirror_mode": {
    "name": "ipython",
    "version": 3
   },
   "file_extension": ".py",
   "mimetype": "text/x-python",
   "name": "python",
   "nbconvert_exporter": "python",
   "pygments_lexer": "ipython3",
   "version": "3.8.10"
  }
 },
 "nbformat": 4,
 "nbformat_minor": 4
}
